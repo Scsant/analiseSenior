{
 "cells": [
  {
   "cell_type": "code",
   "execution_count": null,
   "metadata": {},
   "outputs": [],
   "source": []
  },
  {
   "cell_type": "code",
   "execution_count": 3,
   "metadata": {},
   "outputs": [
    {
     "name": "stdout",
     "output_type": "stream",
     "text": [
      "<class 'pandas.core.frame.DataFrame'>\n",
      "RangeIndex: 2294 entries, 0 to 2293\n",
      "Data columns (total 14 columns):\n",
      " #   Column               Non-Null Count  Dtype \n",
      "---  ------               --------------  ----- \n",
      " 0   Empresa              2294 non-null   int64 \n",
      " 1   Colaborador ID       2294 non-null   int64 \n",
      " 2   Nome                 2294 non-null   object\n",
      " 3   MÊS                  2294 non-null   object\n",
      " 4   Data                 2294 non-null   object\n",
      " 5   Data Início          2294 non-null   object\n",
      " 6   Código Cargo         2294 non-null   int64 \n",
      " 7   Cargo                2294 non-null   object\n",
      " 8   Código Centro Custo  2294 non-null   int64 \n",
      " 9   Centro Custo         2294 non-null   object\n",
      " 10  Hora Trabalhada      2294 non-null   object\n",
      " 11  Hora Exceção         2294 non-null   object\n",
      " 12  Hora Interno         2294 non-null   object\n",
      " 13  Faltas               2294 non-null   int64 \n",
      "dtypes: int64(5), object(9)\n",
      "memory usage: 251.0+ KB\n"
     ]
    }
   ],
   "source": [
    "import pandas as pd\n",
    "\n",
    "# Carregar o arquivo Excel\n",
    "file_path = 'relatorio_08_10.xlsx'  # Atualize o caminho caso necessário\n",
    "df = pd.read_excel(file_path)\n",
    "\n",
    "# Visualizar as primeiras linhas do DataFrame\n",
    "df.info()\n"
   ]
  },
  {
   "cell_type": "code",
   "execution_count": 5,
   "metadata": {},
   "outputs": [
    {
     "name": "stdout",
     "output_type": "stream",
     "text": [
      "   Colaborador ID                           Nome       MÊS        Data  \\\n",
      "0        37015357  Michael Emanoel da Anunciacao    agosto  11/08/2024   \n",
      "1        37015077     Denison Eduardo De Almeida    agosto  11/08/2024   \n",
      "2        37013979     Alessandro Aparecido Porto    agosto  11/08/2024   \n",
      "3        37014393       Ronaldo Dos Santos Lopes  setembro  14/09/2024   \n",
      "4        37014393       Ronaldo Dos Santos Lopes  setembro  21/09/2024   \n",
      "\n",
      "  Data Início  Código Centro Custo Hora Trabalhada Hora Exceção Hora Interno  \\\n",
      "0  13/11/2023               371009           02:36        00:00        00:00   \n",
      "1  07/11/2023               371120           02:05        00:00        00:00   \n",
      "2  15/08/2023               371120           02:22        00:00        00:00   \n",
      "3  05/09/2023               331120           11:00        00:00        00:00   \n",
      "4  05/09/2023               331120           11:00        00:00        00:00   \n",
      "\n",
      "   Faltas  \n",
      "0     575  \n",
      "1     575  \n",
      "2     556  \n",
      "3    9998  \n",
      "4    9998  \n"
     ]
    }
   ],
   "source": [
    "import pandas as pd\n",
    "\n",
    "# Carregar o arquivo Excel\n",
    "file_path = 'relatorio_08_10.xlsx'  # Atualize o caminho caso necessário\n",
    "df = pd.read_excel(file_path)\n",
    "\n",
    "# Selecionar apenas as colunas necessárias, com os nomes exatos\n",
    "df_selected = df[['Colaborador ID', 'Nome', 'MÊS', 'Data', 'Data Início', \n",
    "                  'Código Centro Custo', 'Hora Trabalhada', 'Hora Exceção', \n",
    "                  'Hora Interno', 'Faltas']]\n",
    "\n",
    "# Visualizar as primeiras linhas do DataFrame selecionado\n",
    "print(df_selected.head())\n"
   ]
  }
 ],
 "metadata": {
  "kernelspec": {
   "display_name": "Python 3",
   "language": "python",
   "name": "python3"
  },
  "language_info": {
   "codemirror_mode": {
    "name": "ipython",
    "version": 3
   },
   "file_extension": ".py",
   "mimetype": "text/x-python",
   "name": "python",
   "nbconvert_exporter": "python",
   "pygments_lexer": "ipython3",
   "version": "3.11.5"
  }
 },
 "nbformat": 4,
 "nbformat_minor": 2
}
